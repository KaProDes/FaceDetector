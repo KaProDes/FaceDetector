{
 "cells": [
  {
   "cell_type": "code",
   "execution_count": 1,
   "metadata": {},
   "outputs": [
    {
     "name": "stdout",
     "output_type": "stream",
     "text": [
      "[ALERT] Found 16 Faces.\n",
      "[INFO] Faces Detected -- Will be saved locally.\n",
      "[INFO] Faces Detected -- Will be saved locally.\n",
      "[INFO] Faces Detected -- Will be saved locally.\n",
      "[INFO] Faces Detected -- Will be saved locally.\n",
      "[INFO] Faces Detected -- Will be saved locally.\n",
      "[INFO] Faces Detected -- Will be saved locally.\n",
      "[INFO] Faces Detected -- Will be saved locally.\n",
      "[INFO] Faces Detected -- Will be saved locally.\n",
      "[INFO] Faces Detected -- Will be saved locally.\n",
      "[INFO] Faces Detected -- Will be saved locally.\n",
      "[INFO] Faces Detected -- Will be saved locally.\n",
      "[INFO] Faces Detected -- Will be saved locally.\n",
      "[INFO] Faces Detected -- Will be saved locally.\n",
      "[INFO] Faces Detected -- Will be saved locally.\n",
      "[INFO] Faces Detected -- Will be saved locally.\n",
      "[INFO] Faces Detected -- Will be saved locally.\n",
      "[ALERT] Image faces_detected.jpg written to filesystem:  True\n"
     ]
    }
   ],
   "source": [
    "import cv2\n",
    "import sys\n",
    "\n",
    "image = cv2.imread('images/spainfc.jpg')\n",
    "gray = cv2.cvtColor(image, cv2.COLOR_BGR2GRAY)\n",
    "\n",
    "faceCascade = cv2.CascadeClassifier('open_cv/haarcascade_frontalface_default.xml')\n",
    "faces = faceCascade.detectMultiScale(gray, 1.2 , 5)\n",
    "\n",
    "print(\"[ALERT] Found {0} Faces.\".format(len(faces)))\n",
    "\n",
    "for (x, y, w, h) in faces:\n",
    "    cv2.rectangle(image, (x, y), (x + w, y + h), (0,0,255), 2)\n",
    "    roi_color = image[y:y + h, x:x + w]\n",
    "    print(\"[INFO] Faces Detected -- Will be saved locally.\")\n",
    "    cv2.imwrite('scraped_images/spainfc/'+str(w) + str(h)+ '_faces.jpg', roi_color)\n",
    "    \n",
    "status = cv2.imwrite('faces_detected.jpg', image)\n",
    "print(\"[ALERT] Image faces_detected.jpg written to filesystem: \", status)"
   ]
  },
  {
   "cell_type": "code",
   "execution_count": null,
   "metadata": {},
   "outputs": [],
   "source": []
  },
  {
   "cell_type": "code",
   "execution_count": null,
   "metadata": {},
   "outputs": [],
   "source": []
  }
 ],
 "metadata": {
  "kernelspec": {
   "display_name": "Python 3",
   "language": "python",
   "name": "python3"
  },
  "language_info": {
   "codemirror_mode": {
    "name": "ipython",
    "version": 3
   },
   "file_extension": ".py",
   "mimetype": "text/x-python",
   "name": "python",
   "nbconvert_exporter": "python",
   "pygments_lexer": "ipython3",
   "version": "3.7.3"
  }
 },
 "nbformat": 4,
 "nbformat_minor": 2
}
